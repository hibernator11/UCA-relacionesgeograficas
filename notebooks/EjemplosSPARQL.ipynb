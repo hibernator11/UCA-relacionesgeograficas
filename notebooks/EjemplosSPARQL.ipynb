{
 "cells": [
  {
   "cell_type": "markdown",
   "id": "6ef58a58",
   "metadata": {},
   "source": [
    "### Importamos la librería rdflib y cargamos el fichero RDF "
   ]
  },
  {
   "cell_type": "code",
   "execution_count": 6,
   "id": "62b0a9b5",
   "metadata": {},
   "outputs": [],
   "source": [
    "from rdflib import Graph\n",
    "\n",
    "# Create a Graph\n",
    "g = Graph().parse(\"input/relaciones_uca.rdf\")"
   ]
  },
  {
   "cell_type": "markdown",
   "id": "8c8756a3",
   "metadata": {},
   "source": [
    "### Consultar recursos de tipo edm:Agent"
   ]
  },
  {
   "cell_type": "code",
   "execution_count": 7,
   "id": "19f0fd80",
   "metadata": {},
   "outputs": [
    {
     "name": "stdout",
     "output_type": "stream",
     "text": [
      "##### edm:Agent\n",
      "unknown\n",
      "San Agustín, Pedro de\n",
      "Cano, Martín\n",
      "Stroza Gali, Francisco\n",
      "Velásquez, Joseph de\n",
      "Niebla, Fernando de\n"
     ]
    }
   ],
   "source": [
    "print('##### edm:Agent')\n",
    "\n",
    "# Query the data in g using SPARQL\n",
    "# This query returns the 'name' of all ``edm:Agent`` instances\n",
    "q = \"\"\"\n",
    "    PREFIX skos: <http://www.w3.org/2004/02/skos/core#>\n",
    "    PREFIX edm: <http://www.europeana.eu/schemas/edm/>\n",
    "\n",
    "    SELECT ?name\n",
    "    WHERE {\n",
    "        ?p rdf:type edm:Agent .\n",
    "\n",
    "        ?p skos:prefLabel ?name .\n",
    "    }\n",
    "\"\"\"\n",
    "\n",
    "# Apply the query to the graph and iterate through results\n",
    "for r in g.query(q):\n",
    "    print(r[\"name\"])\n"
   ]
  },
  {
   "cell_type": "markdown",
   "id": "2b5db07c",
   "metadata": {},
   "source": [
    "### Consultar recursos de tipo edm:Place"
   ]
  },
  {
   "cell_type": "code",
   "execution_count": 8,
   "id": "79e6ec69",
   "metadata": {},
   "outputs": [
    {
     "name": "stdout",
     "output_type": "stream",
     "text": [
      "##### edm:Place\n",
      "Mexico (country)| Morelos (state)| Oaxtepec (city)\n",
      "Mexico (country)| State of Mexico (state)| Culhuacán (city)\n",
      "Mexico (country)| Mexico City (state)| Iztapalapa (city)\n",
      "Mexico (country)| Veracruz (state)| Coatzacoalcos (city)\n",
      "Mexico (country)| Puebla (state)| Zacatlán (city)\n",
      "Mexico (country)| Hidalgo (state)| Epazoyucan (city)\n",
      "Mexico (country)| State of Mexico (state)| San Bartolomé Atlatlahuca (city)\n",
      "Mexico (country)| Puebla (state)| San Miguel Jojupango (city)\n",
      "Guatemala (country)| Suchitepéquez (state)| San Antonio Suchitepéquez (city)\n",
      "Mexico (country)| Puebla (state)| Cholula de Rivadabia (city)\n",
      "Mexico (country)| Puebla (state)| Chila (city)\n",
      "Mexico (country)| Morelos (state)| Yecapixtla (city)\n",
      "Mexico (country)| Hidalgo (state)| Atengo (city)| Mexico (country)| Hidalgo (state)| Mixquiahuala de Juárez (city)\n",
      "Mexico (country)| Puebla (state)| Tenampulco (city)\n",
      "Mexico (country)| Veracruz (state)| Papantla de Olarte (city)\n",
      "Mexico (country)| Puebla (state)| Hueytlalpan (city)\n",
      "Mexico (country)| Hidalgo (state)| Zempoala (city)\n",
      "Mexico (country)| Veracruz (state)| Tecolutla (city)\n",
      "Mexico (country)| Puebla (state)| Coxcatlán (city)\n",
      "Mexico (country)| Jalisco (state)| Ameca (city)\n"
     ]
    }
   ],
   "source": [
    "print('##### edm:Place')\n",
    "\n",
    "# Query the data in g using SPARQL\n",
    "# This query returns the 'name' of all ``edm:Place`` instances\n",
    "q = \"\"\"\n",
    "    PREFIX skos: <http://www.w3.org/2004/02/skos/core#>\n",
    "    PREFIX edm: <http://www.europeana.eu/schemas/edm/>\n",
    "\n",
    "    SELECT ?name\n",
    "    WHERE {\n",
    "        ?p rdf:type edm:Place .\n",
    "\n",
    "        ?p skos:prefLabel ?name .\n",
    "    }\n",
    "\"\"\"\n",
    "\n",
    "# Apply the query to the graph and iterate through results\n",
    "for r in g.query(q):\n",
    "    print(r[\"name\"])"
   ]
  },
  {
   "cell_type": "markdown",
   "id": "2781494e",
   "metadata": {},
   "source": [
    "### Consultar recursos de tipo edm:ProvidedCHO"
   ]
  },
  {
   "cell_type": "code",
   "execution_count": 9,
   "id": "6f8e1ca9",
   "metadata": {},
   "outputs": [
    {
     "name": "stdout",
     "output_type": "stream",
     "text": [
      "##### edm:ProvidedCHO\n",
      "Pintura de Huaxtepeque\n",
      "Pintura de Culhuacan\n",
      "Pintura de Iztapalapa\n",
      "Pintura de Coatzacualco\n",
      "Pintura de Zacatlan\n",
      "Pintura de Epazoyuca\n",
      "Pintura de Atlatlauhca\n",
      "Pintura de Jujupango\n",
      "Pintura de Zapotitlan\n",
      "Pintura de Cholula\n",
      "Pintura de Matlatlan y Chila\n",
      "Pintura de Acapistla\n",
      "Pintura de Atengo y Misquiahuala\n",
      "Pintura de Tenanpulco y Matlactonatico\n",
      "Pintura de Papantla\n",
      "Pintura de Hueytlalpa\n",
      "Pintura de Cempoala\n",
      "Pintura de Tecolutla\n",
      "Pintura de Cuzcatlan\n",
      "Pintura de Ameca\n"
     ]
    }
   ],
   "source": [
    "print('##### edm:ProvidedCHO')\n",
    "    \n",
    "# Query the data in g using SPARQL\n",
    "# This query returns the 'name' of all ``edm:ProvidedCHO`` instances\n",
    "q = \"\"\"\n",
    "    PREFIX skos: <http://www.w3.org/2004/02/skos/core#>\n",
    "    PREFIX edm: <http://www.europeana.eu/schemas/edm/>\n",
    "    PREFIX dc: <http://purl.org/dc/elements/1.1/>\n",
    "\n",
    "    SELECT ?title\n",
    "    WHERE {\n",
    "        ?p rdf:type edm:ProvidedCHO .\n",
    "\n",
    "        ?p dc:title ?title .\n",
    "    }\n",
    "\"\"\"\n",
    "\n",
    "# Apply the query to the graph and iterate through results\n",
    "for r in g.query(q):\n",
    "    print(r[\"title\"])    "
   ]
  },
  {
   "cell_type": "markdown",
   "id": "49e828cd",
   "metadata": {},
   "source": [
    "### Propiedades utilizadas en los recursos de tipo ore:Aggregation"
   ]
  },
  {
   "cell_type": "code",
   "execution_count": 10,
   "id": "bae40ae0",
   "metadata": {},
   "outputs": [
    {
     "name": "stdout",
     "output_type": "stream",
     "text": [
      "##### ore:Aggregation\n",
      "http://www.w3.org/1999/02/22-rdf-syntax-ns#type\n",
      "http://purl.org/dc/terms/isReferencedBy\n",
      "http://www.europeana.eu/schemas/edm/isShownAt\n",
      "http://www.europeana.eu/schemas/edm/isShownBy\n",
      "http://www.europeana.eu/schemas/edm/hasView\n",
      "http://www.europeana.eu/schemas/edm/dataProvider\n",
      "http://www.europeana.eu/schemas/edm/aggregatedCHO\n"
     ]
    }
   ],
   "source": [
    "print('##### ore:Aggregation')\n",
    "    \n",
    "# Query the data in g using SPARQL\n",
    "# This query returns the 'name' of all ``edm:ProvidedCHO`` instances\n",
    "q = \"\"\"\n",
    "    PREFIX ore: <http://www.openarchives.org/ore/terms/>\n",
    "    PREFIX edm: <http://www.europeana.eu/schemas/edm/>\n",
    "    PREFIX dc: <http://purl.org/dc/elements/1.1/>\n",
    "\n",
    "    SELECT DISTINCT ?p\n",
    "    WHERE {\n",
    "        ?s rdf:type ore:Aggregation .\n",
    "\n",
    "        ?s ?p ?o.\n",
    "    }\n",
    "\"\"\"\n",
    "\n",
    "# Apply the query to the graph and iterate through results\n",
    "for r in g.query(q):\n",
    "    print(r[\"p\"])     "
   ]
  }
 ],
 "metadata": {
  "kernelspec": {
   "display_name": "Python 3",
   "language": "python",
   "name": "python3"
  },
  "language_info": {
   "codemirror_mode": {
    "name": "ipython",
    "version": 3
   },
   "file_extension": ".py",
   "mimetype": "text/x-python",
   "name": "python",
   "nbconvert_exporter": "python",
   "pygments_lexer": "ipython3",
   "version": "3.9.12"
  }
 },
 "nbformat": 4,
 "nbformat_minor": 5
}
