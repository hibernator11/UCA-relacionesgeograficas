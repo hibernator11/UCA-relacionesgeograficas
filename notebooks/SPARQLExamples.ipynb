{
 "cells": [
  {
   "cell_type": "markdown",
   "id": "84b88ab0",
   "metadata": {},
   "source": [
    "## Introducción\n",
    "\n",
    "Proyecto para la extracción y transformación de la colección digital Relaciones Geográficas a un modelo semántico basado en el vocabulario [European Data Model](https://pro.europeana.eu/page/edm-documentation).\n",
    "\n",
    "En este prototipo se han seleccionado [81 obras](input/manifests.txt) a través de sus manifests en formato JSON de la colección [Relaciones Geográficas of Mexico and Guatemala](https://collections.lib.utexas.edu/?f%5Bmods_relatedItem_titleInfo_title_source_t%5D%5B%5D=Relaciones+Geogr%C3%A1ficas+of+Mexico+and+Guatemala). \n",
    "El [dataset](rdf/relaciones_uca.rdf) se ha transformado al formato RDF siguiendo el vocabulario EDM.\n",
    "\n",
    "El prototipo incluye las [modificaciones realizadas para la transformación a RDF con la herramienta Open Refine](openrefine/openrefine-steps.json). También se ha desarrollado un [Jupyter Notebook](https://nbviewer.org/github/hibernator11/UCA-relacionesgeograficas/blob/main/notebooks/EjemplosSPARQL.ipynb) que se puede ejecutar en la plataforma Binder."
   ]
  },
  {
   "cell_type": "markdown",
   "id": "6ef58a58",
   "metadata": {},
   "source": [
    "### Importamos la librería rdflib y cargamos el fichero RDF "
   ]
  },
  {
   "cell_type": "code",
   "execution_count": 4,
   "id": "62b0a9b5",
   "metadata": {},
   "outputs": [],
   "source": [
    "from rdflib import Graph\n",
    "\n",
    "# Create a Graph\n",
    "g = Graph().parse(\"rdf/relaciones_uca.rdf\")"
   ]
  },
  {
   "cell_type": "markdown",
   "id": "8c8756a3",
   "metadata": {},
   "source": [
    "### Consultar recursos de tipo edm:Agent"
   ]
  },
  {
   "cell_type": "code",
   "execution_count": 5,
   "id": "19f0fd80",
   "metadata": {},
   "outputs": [
    {
     "name": "stdout",
     "output_type": "stream",
     "text": [
      "##### edm:Agent\n",
      "López de Zárate, Juan\n",
      "Treviño, Diosdado\n",
      "Martínez, Juan\n",
      "Cangas y Quiñonez , Suero de\n",
      "Stroza Gali, Francisco\n",
      "Méndez, Fray Andrés\n",
      "Estrada, Juan de\n",
      "Niebla, Fernando de\n",
      "unknown\n",
      "Villacastín, Francisco de\n",
      "Aznar de Cózar, Andrés\n",
      "Chávez, Gabriel de\n",
      "Rojas, Gabriel de\n",
      "Torres  de Lagunas, Juan de\n",
      "Cervantes, Hernando de\n",
      "Agüero, Francisco de\n",
      "Velásquez, Joseph de\n",
      "Carrion, Juan de\n",
      "Gutiérrez de Liébana, Juan\n",
      "Gallegos, Hernando\n",
      "Patino, Álvaro\n",
      "Obregón, Luis\n",
      "Leyva, Antonio de\n",
      "Obregón, Luis de\n",
      "Pomar, Juan Bautista de\n",
      "San Agustín, Pedro de\n",
      "Gallegos, Gonzalo\n",
      "Pérez de Arteaga, Diego\n",
      "Cano, Martín\n",
      "Martinez, Francisco\n",
      "Salazar, Fray Agustín de\n",
      "Velázquez de Lara, Gonzalo\n",
      "Castañeda León, Juan de\n",
      "Alfonso de Estrada, Fernando\n",
      "Villagar, Francisco de\n",
      "Solís, Gaspar de\n",
      "Ávila, Pedro de\n",
      "Vargas, Antonio de\n",
      "Padilla, Juan de\n",
      "Montes de Oca, Pedro de\n",
      "Franco, Pedro\n",
      "Macarro, Sebastian\n",
      "Vascones, Hernando de\n",
      "Vargas, Hernando de\n",
      "Salas, Cristóbal de\n",
      "Suárez, Mélchior\n",
      "Galdos, Alonso de\n"
     ]
    }
   ],
   "source": [
    "print('##### edm:Agent')\n",
    "\n",
    "# Query the data in g using SPARQL\n",
    "# This query returns the 'name' of all ``edm:Agent`` instances\n",
    "q = \"\"\"\n",
    "    PREFIX skos: <http://www.w3.org/2004/02/skos/core#>\n",
    "    PREFIX edm: <http://www.europeana.eu/schemas/edm/>\n",
    "\n",
    "    SELECT ?name\n",
    "    WHERE {\n",
    "        ?p rdf:type edm:Agent .\n",
    "\n",
    "        ?p skos:prefLabel ?name .\n",
    "    }\n",
    "\"\"\"\n",
    "\n",
    "# Apply the query to the graph and iterate through results\n",
    "for r in g.query(q):\n",
    "    print(r[\"name\"])\n"
   ]
  },
  {
   "cell_type": "markdown",
   "id": "2b5db07c",
   "metadata": {},
   "source": [
    "### Consultar recursos de tipo edm:Place"
   ]
  },
  {
   "cell_type": "code",
   "execution_count": 6,
   "id": "79e6ec69",
   "metadata": {},
   "outputs": [
    {
     "name": "stdout",
     "output_type": "stream",
     "text": [
      "##### edm:Place\n",
      "Mexico (country)| Morelos (state)| Oaxtepec (city)\n",
      "Mexico (country)| State of Mexico (state)| Culhuacán (city)\n",
      "Mexico (country)| Mexico City (state)| Iztapalapa (city)\n",
      "Mexico (country)| Veracruz (state)| Coatzacoalcos (city)\n",
      "Mexico (country)| Puebla (state)| Zacatlán (city)\n",
      "Mexico (country)| Hidalgo (state)| Epazoyucan (city)\n",
      "Mexico (country)| State of Mexico (state)| San Bartolomé Atlatlahuca (city)\n",
      "Mexico (country)| Puebla (state)| San Miguel Jojupango (city)\n",
      "Guatemala (country)| Suchitepéquez (state)| San Antonio Suchitepéquez (city)\n",
      "Mexico (country)| Puebla (state)| Cholula de Rivadabia (city)\n",
      "Mexico (country)| Puebla (state)| Chila (city)\n",
      "Mexico (country)| Morelos (state)| Yecapixtla (city)\n",
      "Mexico (country)| Hidalgo (state)| Atengo (city)| Mexico (country)| Hidalgo (state)| Mixquiahuala de Juárez (city)\n",
      "Mexico (country)| Puebla (state)| Tenampulco (city)\n",
      "Mexico (country)| Veracruz (state)| Papantla de Olarte (city)\n",
      "Mexico (country)| Puebla (state)| Hueytlalpan (city)\n",
      "Mexico (country)| Hidalgo (state)| Zempoala (city)\n",
      "Mexico (country)| Veracruz (state)| Tecolutla (city)\n",
      "Mexico (country)| Puebla (state)| Coxcatlán (city)\n",
      "Mexico (country)| Jalisco (state)| Ameca (city)\n"
     ]
    }
   ],
   "source": [
    "print('##### edm:Place')\n",
    "\n",
    "# Query the data in g using SPARQL\n",
    "# This query returns the 'name' of all ``edm:Place`` instances\n",
    "q = \"\"\"\n",
    "    PREFIX skos: <http://www.w3.org/2004/02/skos/core#>\n",
    "    PREFIX edm: <http://www.europeana.eu/schemas/edm/>\n",
    "\n",
    "    SELECT ?name\n",
    "    WHERE {\n",
    "        ?p rdf:type edm:Place .\n",
    "\n",
    "        ?p skos:prefLabel ?name .\n",
    "    }\n",
    "\"\"\"\n",
    "\n",
    "# Apply the query to the graph and iterate through results\n",
    "for r in g.query(q):\n",
    "    print(r[\"name\"])"
   ]
  },
  {
   "cell_type": "markdown",
   "id": "2781494e",
   "metadata": {},
   "source": [
    "### Consultar recursos de tipo edm:ProvidedCHO"
   ]
  },
  {
   "cell_type": "code",
   "execution_count": 7,
   "id": "6f8e1ca9",
   "metadata": {},
   "outputs": [
    {
     "name": "stdout",
     "output_type": "stream",
     "text": [
      "##### edm:ProvidedCHO\n",
      "Pintura de Huaxtepeque\n",
      "Pintura de Culhuacan\n",
      "Pintura de Iztapalapa\n",
      "Pintura de Coatzacualco\n",
      "Pintura de Zacatlan\n",
      "Pintura de Epazoyuca\n",
      "Pintura de Atlatlauhca\n",
      "Pintura de Jujupango\n",
      "Pintura de Zapotitlan\n",
      "Pintura de Cholula\n",
      "Pintura de Matlatlan y Chila\n",
      "Pintura de Acapistla\n",
      "Pintura de Atengo y Misquiahuala\n",
      "Pintura de Tenanpulco y Matlactonatico\n",
      "Pintura de Papantla\n",
      "Pintura de Hueytlalpa\n",
      "Pintura de Cempoala\n",
      "Pintura de Tecolutla\n",
      "Pintura de Cuzcatlan\n",
      "Pintura de Ameca\n"
     ]
    }
   ],
   "source": [
    "print('##### edm:ProvidedCHO')\n",
    "    \n",
    "# Query the data in g using SPARQL\n",
    "# This query returns the 'name' of all ``edm:ProvidedCHO`` instances\n",
    "q = \"\"\"\n",
    "    PREFIX skos: <http://www.w3.org/2004/02/skos/core#>\n",
    "    PREFIX edm: <http://www.europeana.eu/schemas/edm/>\n",
    "    PREFIX dc: <http://purl.org/dc/elements/1.1/>\n",
    "\n",
    "    SELECT ?title\n",
    "    WHERE {\n",
    "        ?p rdf:type edm:ProvidedCHO .\n",
    "\n",
    "        ?p dc:title ?title .\n",
    "    }\n",
    "\"\"\"\n",
    "\n",
    "# Apply the query to the graph and iterate through results\n",
    "for r in g.query(q):\n",
    "    print(r[\"title\"])    "
   ]
  },
  {
   "cell_type": "markdown",
   "id": "49e828cd",
   "metadata": {},
   "source": [
    "### Propiedades utilizadas en los recursos de tipo ore:Aggregation"
   ]
  },
  {
   "cell_type": "code",
   "execution_count": 8,
   "id": "bae40ae0",
   "metadata": {},
   "outputs": [
    {
     "name": "stdout",
     "output_type": "stream",
     "text": [
      "##### ore:Aggregation\n",
      "http://www.w3.org/1999/02/22-rdf-syntax-ns#type\n",
      "http://purl.org/dc/terms/isReferencedBy\n",
      "http://www.europeana.eu/schemas/edm/isShownAt\n",
      "http://www.europeana.eu/schemas/edm/isShownBy\n",
      "http://www.europeana.eu/schemas/edm/hasView\n",
      "http://www.europeana.eu/schemas/edm/dataProvider\n",
      "http://www.europeana.eu/schemas/edm/aggregatedCHO\n"
     ]
    }
   ],
   "source": [
    "print('##### ore:Aggregation')\n",
    "    \n",
    "# Query the data in g using SPARQL\n",
    "# This query returns the 'name' of all ``edm:ProvidedCHO`` instances\n",
    "q = \"\"\"\n",
    "    PREFIX ore: <http://www.openarchives.org/ore/terms/>\n",
    "    PREFIX edm: <http://www.europeana.eu/schemas/edm/>\n",
    "    PREFIX dc: <http://purl.org/dc/elements/1.1/>\n",
    "\n",
    "    SELECT DISTINCT ?p\n",
    "    WHERE {\n",
    "        ?s rdf:type ore:Aggregation .\n",
    "\n",
    "        ?s ?p ?o.\n",
    "    }\n",
    "\"\"\"\n",
    "\n",
    "# Apply the query to the graph and iterate through results\n",
    "for r in g.query(q):\n",
    "    print(r[\"p\"])     "
   ]
  },
  {
   "cell_type": "code",
   "execution_count": 14,
   "id": "1cbc7682",
   "metadata": {},
   "outputs": [
    {
     "name": "stderr",
     "output_type": "stream",
     "text": [
      "http://www.w3.org/1999/02/22-rdf-syntax-ns#type  does not look like a valid URI, trying to serialize this will break.\n",
      "http://www.w3.org/1999/02/22-rdf-syntax-ns#type http://rdfs.org/ns/void#Dataset does not look like a valid URI, trying to serialize this will break.\n",
      "http://www.w3.org/1999/02/22-rdf-syntax-ns#type http://rdfs.org/ns/void#Dataset does not look like a valid URI, trying to serialize this will break.\n",
      "http://purl.org/dc/terms/publisher  does not look like a valid URI, trying to serialize this will break.\n",
      "http://purl.org/dc/terms/publisher Benson Latin American Collection, LLILAS Benson Latin American Studies and Collections, The University of Texas at Austin does not look like a valid URI, trying to serialize this will break.\n",
      "http://purl.org/dc/terms/description  does not look like a valid URI, trying to serialize this will break.\n",
      "http://purl.org/dc/terms/description Relaciones Geográficas of Mexico and Guatemala does not look like a valid URI, trying to serialize this will break.\n",
      "http://xmlns.com/foaf/0.1/homepage  does not look like a valid URI, trying to serialize this will break.\n",
      "http://xmlns.com/foaf/0.1/homepage https://txarchives.org/utlac/finding_aids/00056.xml does not look like a valid URI, trying to serialize this will break.\n",
      "http://xmlns.com/foaf/0.1/homepage https://txarchives.org/utlac/finding_aids/00056.xml does not look like a valid URI, trying to serialize this will break.\n"
     ]
    },
    {
     "name": "stdout",
     "output_type": "stream",
     "text": [
      "##### void:Dataset\n",
      "http://www.w3.org/1999/02/22-rdf-syntax-ns#type http://rdfs.org/ns/void#Dataset\n",
      "http://purl.org/dc/terms/publisher Benson Latin American Collection, LLILAS Benson Latin American Studies and Collections, The University of Texas at Austin\n",
      "http://purl.org/dc/terms/description Relaciones Geográficas of Mexico and Guatemala\n",
      "http://xmlns.com/foaf/0.1/homepage https://txarchives.org/utlac/finding_aids/00056.xml\n"
     ]
    }
   ],
   "source": [
    "print('##### void:Dataset')\n",
    "    \n",
    "# Query the data in g using SPARQL\n",
    "# This query returns the 'name' of all ``edm:ProvidedCHO`` instances\n",
    "q = \"\"\"\n",
    "    PREFIX ore: <http://www.openarchives.org/ore/terms/>\n",
    "    PREFIX edm: <http://www.europeana.eu/schemas/edm/>\n",
    "    PREFIX void: <http://rdfs.org/ns/void#>\n",
    "    PREFIX rdf: <http://www.w3.org/1999/02/22-rdf-syntax-ns#>\n",
    "    PREFIX rdfs: <http://www.w3.org/2000/01/rdf-schema#>\n",
    "\n",
    "    SELECT DISTINCT ?p ?o\n",
    "    WHERE {\n",
    "        ?s rdf:type void:Dataset .\n",
    "\n",
    "        ?s ?p ?o.\n",
    "    }\n",
    "\"\"\"\n",
    "\n",
    "# Apply the query to the graph and iterate through results\n",
    "for r in g.query(q):\n",
    "    print(r[\"p\"] + ' ' + r[\"o\"])     "
   ]
  },
  {
   "cell_type": "code",
   "execution_count": null,
   "id": "6a07d6b0",
   "metadata": {},
   "outputs": [],
   "source": []
  }
 ],
 "metadata": {
  "kernelspec": {
   "display_name": "Python 3",
   "language": "python",
   "name": "python3"
  },
  "language_info": {
   "codemirror_mode": {
    "name": "ipython",
    "version": 3
   },
   "file_extension": ".py",
   "mimetype": "text/x-python",
   "name": "python",
   "nbconvert_exporter": "python",
   "pygments_lexer": "ipython3",
   "version": "3.9.12"
  }
 },
 "nbformat": 4,
 "nbformat_minor": 5
}
